{
 "cells": [
  {
   "cell_type": "code",
   "execution_count": 1,
   "metadata": {},
   "outputs": [],
   "source": [
    "import numpy as np\n",
    "from keras.models import Sequential\n",
    "from keras.layers import Dense"
   ]
  },
  {
   "cell_type": "code",
   "execution_count": 2,
   "metadata": {},
   "outputs": [],
   "source": [
    "seeval = \"start_entropy_eval.txt\"\n",
    "setrain = \"start_entropy_train.txt\"\n",
    "eeeval = \"end_entropy_eval.txt\"\n",
    "eetrain = \"end_entropy_train.txt\"\n",
    "\n",
    "nparrsev = np.loadtxt(seeval, delimiter=\",\")\n",
    "nparrset = np.loadtxt(setrain, delimiter=\",\")\n",
    "nparreev = np.loadtxt(eeeval, delimiter=\",\")\n",
    "nparreet = np.loadtxt(eetrain, delimiter=\",\")"
   ]
  },
  {
   "cell_type": "code",
   "execution_count": 3,
   "metadata": {},
   "outputs": [],
   "source": [
    "avg = 0 \n",
    "start_layer = 6\n",
    "\n",
    "stest = nparrsev[:,:11]\n",
    "strain = nparrset[:,:11]\n",
    "etest = nparreev[:,:11]\n",
    "etrain = nparreet[:,:11]\n",
    "\n",
    "if avg:\n",
    "  (x_train_s, y_train_s) = (strain[:,:start_layer], strain[:,start_layer+1:])\n",
    "  (x_test_s, y_test_s) = (stest[:,:start_layer], stest[:,start_layer+1:])\n",
    "  (x_train_e, y_train_e) = (etrain[:,:start_layer], etrain[:,start_layer+1:])\n",
    "  (x_test_e, y_test_e) = (etest[:,:start_layer], etest[:,start_layer+1:])\n",
    "  x_train_s = np.mean(x_train_s, axis=-1)\n",
    "  x_test_s = np.mean(x_test_s, axis=-1)\n",
    "  x_train_e = np.mean(x_train_e, axis=-1)\n",
    "  x_test_e = np.mean(x_test_e, axis=-1)\n",
    "else:\n",
    "  (x_train_s, y_train_s) = (strain[:,start_layer], strain[:,start_layer+1:])\n",
    "  (x_test_s, y_test_s) = (stest[:,start_layer], stest[:,start_layer+1:])\n",
    "  (x_train_e, y_train_e) = (etrain[:,start_layer], etrain[:,start_layer+1:])\n",
    "  (x_test_e, y_test_e) = (etest[:,start_layer], etest[:,start_layer+1:])"
   ]
  },
  {
   "cell_type": "code",
   "execution_count": 5,
   "metadata": {},
   "outputs": [
    {
     "name": "stdout",
     "output_type": "stream",
     "text": [
      "Epoch 1/3\n",
      "662/662 [==============================] - 2s 2ms/step - loss: 0.0851\n",
      "Epoch 2/3\n",
      "662/662 [==============================] - 1s 2ms/step - loss: 0.0706\n",
      "Epoch 3/3\n",
      "662/662 [==============================] - 1s 2ms/step - loss: 0.0704\n"
     ]
    },
    {
     "data": {
      "text/plain": [
       "<keras.callbacks.History at 0x14446b24130>"
      ]
     },
     "execution_count": 5,
     "metadata": {},
     "output_type": "execute_result"
    }
   ],
   "source": [
    "smodel = Sequential()\n",
    "smodel.add(Dense(64, activation='relu', input_dim = 1))\n",
    "smodel.add(Dense(64, activation='relu'))\n",
    "smodel.add(Dense(64, activation='relu'))\n",
    "smodel.add(Dense(64, activation='relu'))\n",
    "smodel.add(Dense(10-start_layer))\n",
    "\n",
    "smodel.compile(\n",
    "    optimizer='adam',\n",
    "    loss='mean_squared_error' \n",
    ")\n",
    "\n",
    "smodel.fit(x_train_s, y_train_s, epochs=3, verbose=1)"
   ]
  },
  {
   "cell_type": "code",
   "execution_count": 6,
   "metadata": {},
   "outputs": [
    {
     "name": "stdout",
     "output_type": "stream",
     "text": [
      "Epoch 1/3\n",
      "662/662 [==============================] - 2s 3ms/step - loss: 0.0716\n",
      "Epoch 2/3\n",
      "662/662 [==============================] - 1s 2ms/step - loss: 0.0644\n",
      "Epoch 3/3\n",
      "662/662 [==============================] - 1s 2ms/step - loss: 0.0638\n"
     ]
    },
    {
     "data": {
      "text/plain": [
       "<keras.callbacks.History at 0x1444e8f0d30>"
      ]
     },
     "execution_count": 6,
     "metadata": {},
     "output_type": "execute_result"
    }
   ],
   "source": [
    "emodel = Sequential()\n",
    "emodel.add(Dense(64, activation='relu', input_dim = 1))\n",
    "emodel.add(Dense(64, activation='relu'))\n",
    "emodel.add(Dense(64, activation='relu'))\n",
    "emodel.add(Dense(64, activation='relu'))\n",
    "emodel.add(Dense(10-start_layer))\n",
    "\n",
    "emodel.compile(\n",
    "    optimizer='adam',\n",
    "    loss='mean_squared_error' \n",
    ")\n",
    "\n",
    "emodel.fit(x_train_e, y_train_e, epochs=3, verbose=1)"
   ]
  },
  {
   "cell_type": "code",
   "execution_count": 7,
   "metadata": {},
   "outputs": [
    {
     "name": "stdout",
     "output_type": "stream",
     "text": [
      "9/9 [==============================] - 0s 875us/step - loss: 0.0728\n",
      "9/9 [==============================] - 0s 1ms/step - loss: 0.0597\n"
     ]
    }
   ],
   "source": [
    "val_loss_s = smodel.evaluate(x_test_s, y_test_s)\n",
    "val_loss_e = emodel.evaluate(x_test_e, y_test_e)"
   ]
  },
  {
   "cell_type": "code",
   "execution_count": null,
   "metadata": {},
   "outputs": [],
   "source": [
    "table_s = np.zeros((100, 11-start_layer))\n",
    "table_e = np.zeros((100, 11-start_layer))\n",
    "for i in range(0,100):\n",
    "  xval = i*0.01;\n",
    "  yval_s = smodel.predict(np.array([xval]), batch_size=1)\n",
    "  yval_e = emodel.predict(np.array([xval]), batch_size=1)\n",
    "  table_s[i,0] = xval\n",
    "  table_e[i,0] = xval\n",
    "  table_s[i,1:] = yval_s[0]\n",
    "  table_e[i,1:] = yval_e[0]\n",
    "\n",
    "threshold_indices_s = table_s < 0\n",
    "threshold_indices_e = table_e < 0\n",
    "table_s[threshold_indices_s] = 0\n",
    "table_e[threshold_indices_e] = 0\n",
    "\n",
    "np.savetxt(\"squad2_lookup_table_start.csv\", table_s, delimiter=\",\")\n",
    "np.savetxt(\"squad2_lookup_table_end.csv\", table_e, delimiter=\",\")"
   ]
  }
 ],
 "metadata": {
  "interpreter": {
   "hash": "16598a3b81f2a84cd513108f344cdb8084b55d8ad53b3a39771da6baff6a5a2e"
  },
  "kernelspec": {
   "display_name": "Python 3.7.11 64-bit ('test-edge': conda)",
   "language": "python",
   "name": "python3"
  },
  "language_info": {
   "codemirror_mode": {
    "name": "ipython",
    "version": 3
   },
   "file_extension": ".py",
   "mimetype": "text/x-python",
   "name": "python",
   "nbconvert_exporter": "python",
   "pygments_lexer": "ipython3",
   "version": "3.9.7"
  },
  "orig_nbformat": 4
 },
 "nbformat": 4,
 "nbformat_minor": 2
}
